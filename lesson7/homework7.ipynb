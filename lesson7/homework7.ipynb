{
 "cells": [
  {
   "cell_type": "code",
   "execution_count": 1,
   "metadata": {},
   "outputs": [],
   "source": [
    "import numpy as np\n",
    "from scipy import stats"
   ]
  },
  {
   "cell_type": "markdown",
   "metadata": {},
   "source": [
    "Задача 1\n",
    "Дана матрица объект-признак\n",
    "\n",
    "X = [[ 1.22401313, 2.30868478, 3.03636353, 2.69287214],\n",
    "[-0.18757272, 1.30337355, 5.12093014, 3.46363202],\n",
    "[-0.81094525, 1.82463398, 5.79686488, 1.86159445],\n",
    "[ 0.75129018, 2.67392052, 3.65529809, 1.66746094],\n",
    "[ 0.00972362, 1.97367255, 2.50594319, 1.69755173],\n",
    "[-0.62972637, 0.77750764, 2.84124027, 4.54410559],\n",
    "[ 2.29536229, 1.81206697, 1.95026215, 1.51874636],\n",
    "[ 0.0920418 , 2.26971361, 7.47708735, 2.61081203],\n",
    "[ 2.39252799, 3.17563985, 3.61420599, 5.10773362],\n",
    "[ 0.54983815, 2.87988651, 1.65752765, 1.59635987]]\n",
    "\n",
    "и значения целевой переменной\n",
    "\n",
    "y = [ 9.26193358, 9.700363 , 8.67214805, 8.74796974, 6.18689108,\n",
    "7.53312713, 7.57643777, 12.44965478, 14.29010746, 6.68361218]\n",
    "\n",
    "Подберите два признака (из четырёх) так, чтобы уровень линейной зависимости целевой переменной от значений этих признаков был максимальным. Другими словами, модель линейной регрессии на этих признаках должна давать наилучший результат.\n",
    "Является ли значимым получившееся уравнение регрессии?"
   ]
  },
  {
   "cell_type": "code",
   "execution_count": 2,
   "metadata": {},
   "outputs": [],
   "source": [
    "X = np.array([[ 1.22401313, 2.30868478, 3.03636353, 2.69287214],\n",
    "[-0.18757272, 1.30337355, 5.12093014, 3.46363202],\n",
    "[-0.81094525, 1.82463398, 5.79686488, 1.86159445],\n",
    "[ 0.75129018, 2.67392052, 3.65529809, 1.66746094],\n",
    "[ 0.00972362, 1.97367255, 2.50594319, 1.69755173],\n",
    "[-0.62972637, 0.77750764, 2.84124027, 4.54410559],\n",
    "[ 2.29536229, 1.81206697, 1.95026215, 1.51874636],\n",
    "[ 0.0920418 , 2.26971361, 7.47708735, 2.61081203],\n",
    "[ 2.39252799, 3.17563985, 3.61420599, 5.10773362],\n",
    "[ 0.54983815, 2.87988651, 1.65752765, 1.59635987]])\n",
    "y = np.array([ 9.26193358, 9.700363 , 8.67214805, 8.74796974, 6.18689108,\n",
    "7.53312713, 7.57643777, 12.44965478, 14.29010746, 6.68361218])"
   ]
  },
  {
   "cell_type": "code",
   "execution_count": 3,
   "metadata": {},
   "outputs": [],
   "source": [
    "ones = np.ones((X.shape[0], 1))"
   ]
  },
  {
   "cell_type": "code",
   "execution_count": 4,
   "metadata": {},
   "outputs": [],
   "source": [
    "def sum_of_squares(samples: np.ndarray) -> float:\n",
    "    return ((samples - samples.mean()) ** 2).sum()"
   ]
  },
  {
   "cell_type": "code",
   "execution_count": 5,
   "metadata": {},
   "outputs": [
    {
     "name": "stdout",
     "output_type": "stream",
     "text": [
      "Критическая область [4.73741412777588; ∞)\n"
     ]
    }
   ],
   "source": [
    "alpha = 0.05\n",
    "\n",
    "k1 = 2\n",
    "k2 = X.shape[0] - 2 - 1\n",
    "\n",
    "k1, k2\n",
    "t = stats.f.ppf(1 - alpha, k1, k2)\n",
    "t\n",
    "print(f'Критическая область [{t}; ∞)')\n"
   ]
  },
  {
   "cell_type": "code",
   "execution_count": 6,
   "metadata": {},
   "outputs": [
    {
     "name": "stdout",
     "output_type": "stream",
     "text": [
      "i = 0 j = 1\n",
      "[6.70781579 0.40786841 1.03360247]\n",
      "Коэффициент детерминации равен 0.18113594742585215\n",
      "Значение статистики равно 0.7742137586789185\n",
      "i = 0 j = 2\n",
      "[3.62455695 1.62531203 1.21134979]\n",
      "Коэффициент детерминации равен 0.7634246238793151\n",
      "Значение статистики равно 11.294439122922642\n",
      "i = 0 j = 3\n",
      "[5.70686123 0.68359949 1.12650707]\n",
      "Коэффициент детерминации равен 0.4532966783144077\n",
      "Значение статистики равно 2.9020097577033583\n",
      "i = 1 j = 2\n",
      "[2.48896193 1.60611956 0.86269915]\n",
      "Коэффициент детерминации равен 0.5479482734039012\n",
      "Значение статистики равно 4.242476787677875\n",
      "i = 1 j = 3\n",
      "[1.91685221 1.74373667 1.31971882]\n",
      "Коэффициент детерминации равен 0.6062055761129934\n",
      "Значение статистики равно 5.387886134731741\n",
      "i = 2 j = 3\n",
      "[3.64001086 0.70753914 1.04851745]\n",
      "Коэффициент детерминации равен 0.622441987650532\n",
      "Значение статистики равно 5.770098595498478\n"
     ]
    }
   ],
   "source": [
    "for i in range(4):\n",
    "    for j in range(i + 1,4):\n",
    "        print(f'i = {i} j = {j}')\n",
    "        x1 = X.T[i].reshape(-1, 1)\n",
    "        x2 = X.T[j].reshape(-1, 1)\n",
    "        x = np.hstack((ones,x1, x2))\n",
    "        \n",
    "        XTX = x.T.dot(x)\n",
    "        det = np.linalg.det(XTX)\n",
    "        if det < 0.1:\n",
    "            print(\"Детерминант матрицы слишком мал\")\n",
    "            continue\n",
    "        else:\n",
    "            XTX_inv = np.linalg.inv(XTX)\n",
    "            b = XTX_inv.dot(x.T).dot(y)\n",
    "            print(b)\n",
    "            z = x.dot(b)\n",
    "            e = y - z\n",
    "            R = 1 - sum_of_squares(e) / sum_of_squares(y)\n",
    "            print(f'Коэффициент детерминации равен {R}')\n",
    "            F = (R / k1) / ((1 - R) / k2)\n",
    "            print(f'Значение статистики равно {F}')\n",
    "\n"
   ]
  },
  {
   "cell_type": "markdown",
   "metadata": {},
   "source": [
    "Таким образом, максимальный уровень линейной зависимости достигается для первого и третьего признака. \n",
    "Коэффициент детерминации равен 0.7634246238793151\n",
    "Значение статистики равно 11.294439122922642, что попадает в критическую область, следовательно, уравнение регресии \n",
    "y = 3.62455695 + 1.62531203* x0 + 1.21134979 * x2\n",
    "можно признать значимым\n"
   ]
  },
  {
   "cell_type": "markdown",
   "metadata": {},
   "source": [
    "Задача 2\n",
    "\n",
    "Для проведения A/B-тестирования сайта интернет-магазина были получены следующие данные: страница A была посещена 2509 раз, из них 77 закончились совершением покупки, страница B была посещена 1465 раз, 60 из них закончились совершением покупки. Является ли значимым отличие конверсии на страницах A и B?"
   ]
  },
  {
   "cell_type": "markdown",
   "metadata": {},
   "source": [
    "Обозначим факт покупки 1, а посещение без покупки 0. Тогда для первой страницы будет массив из 2509 чисел, из которых 77 единиц, а остальный нули. Аналогично для второй страницы."
   ]
  },
  {
   "cell_type": "code",
   "execution_count": 7,
   "metadata": {},
   "outputs": [
    {
     "data": {
      "text/plain": [
       "(0.03068951773614986, 0.040955631399317405)"
      ]
     },
     "execution_count": 7,
     "metadata": {},
     "output_type": "execute_result"
    }
   ],
   "source": [
    "y1_mean = 77/2509\n",
    "y2_mean = 60/1465\n",
    "y1_mean, y2_mean"
   ]
  },
  {
   "cell_type": "code",
   "execution_count": 8,
   "metadata": {},
   "outputs": [
    {
     "data": {
      "text/plain": [
       "0.03447408152994464"
      ]
     },
     "execution_count": 8,
     "metadata": {},
     "output_type": "execute_result"
    }
   ],
   "source": [
    "y_mean = (77+60)/(2509 + 1465)\n",
    "y_mean"
   ]
  },
  {
   "cell_type": "code",
   "execution_count": 9,
   "metadata": {},
   "outputs": [
    {
     "data": {
      "text/plain": [
       "0.09748158004016791"
      ]
     },
     "execution_count": 9,
     "metadata": {},
     "output_type": "execute_result"
    }
   ],
   "source": [
    "SS_b = 2509 * (y1_mean - y_mean) ** 2 + 1465 * (y2_mean - y_mean) ** 2 \n",
    "SS_b"
   ]
  },
  {
   "cell_type": "code",
   "execution_count": 10,
   "metadata": {},
   "outputs": [
    {
     "data": {
      "text/plain": [
       "132.17956925035742"
      ]
     },
     "execution_count": 10,
     "metadata": {},
     "output_type": "execute_result"
    }
   ],
   "source": [
    "SS_w = 77*(1 - y1_mean) ** 2 + (2509 - 77)*(0 - y1_mean)**2 + 60 *(1 - y2_mean) ** 2 + (1465 - 60)*(0 - y2_mean)**2\n",
    "SS_w"
   ]
  },
  {
   "cell_type": "code",
   "execution_count": 11,
   "metadata": {},
   "outputs": [
    {
     "data": {
      "text/plain": [
       "(0.09748158004016791, 0.033277837172798946)"
      ]
     },
     "execution_count": 11,
     "metadata": {},
     "output_type": "execute_result"
    }
   ],
   "source": [
    "k = 2\n",
    "n = 2509 + 1465\n",
    "\n",
    "k1 = k - 1\n",
    "k2 = n - k\n",
    "\n",
    "sigma2_b = SS_b / k1\n",
    "sigma2_w = SS_w / k2\n",
    "\n",
    "sigma2_b, sigma2_w"
   ]
  },
  {
   "cell_type": "code",
   "execution_count": 12,
   "metadata": {},
   "outputs": [
    {
     "data": {
      "text/plain": [
       "2.92932438890135"
      ]
     },
     "execution_count": 12,
     "metadata": {},
     "output_type": "execute_result"
    }
   ],
   "source": [
    "F = sigma2_b / sigma2_w\n",
    "F"
   ]
  },
  {
   "cell_type": "code",
   "execution_count": 13,
   "metadata": {},
   "outputs": [
    {
     "data": {
      "text/plain": [
       "3.8438010503414866"
      ]
     },
     "execution_count": 13,
     "metadata": {},
     "output_type": "execute_result"
    }
   ],
   "source": [
    "alpha = 0.05\n",
    "\n",
    "t = stats.f.ppf(1 - alpha, k1, k2)\n",
    "t"
   ]
  },
  {
   "cell_type": "markdown",
   "metadata": {},
   "source": [
    "Значение статистики не попало в критическую область, поэтому считаем, что отличие не является статистически значимым"
   ]
  },
  {
   "cell_type": "markdown",
   "metadata": {},
   "source": [
    "Задача 3\n",
    "\n",
    "Квартет Энскомба — популярный в области анализа данных пример наборов данных, у которых практически совпадают все статистические свойства (средние, дисперсии, коэффициенты корреляции, регрессионные линии), однако, существенно отличаются графики. Данный пример призван показать, насколько важна визуализация данных. Датасет представляет собой 4 пары выборок:\n",
    "\n",
    "{\n",
    "    \"x1\": [10.0, 8.0, 13.0, 9.0, 11.0, 14.0, 6.0, 4.0, 12.0, 7.0, 5.0],\n",
    "    \"y1\": [8.04, 6.95, 7.58, 8.81, 8.33, 9.96, 7.24, 4.26, 10.84, 4.82, 5.68],\n",
    "    \"x2\": [10.0, 8.0, 13.0, 9.0, 11.0, 14.0, 6.0, 4.0, 12.0, 7.0, 5.0],\n",
    "    \"y2\": [9.14, 8.14, 8.74, 8.77, 9.26, 8.1, 6.13, 3.1, 9.13, 7.26, 4.74],\n",
    "    \"x3\": [10.0, 8.0, 13.0, 9.0, 11.0, 14.0, 6.0, 4.0, 12.0, 7.0, 5.0],\n",
    "    \"y3\": [7.46, 6.77, 12.74, 7.11, 7.81, 8.84, 6.08, 5.39, 8.15, 6.42, 5.73],\n",
    "    \"x4\": [8.0, 8.0, 8.0, 8.0, 8.0, 8.0, 8.0, 19.0, 8.0, 8.0, 8.0],\n",
    "    \"y4\": [6.58, 5.76, 7.71, 8.84, 8.47, 7.04, 5.25, 12.5, 5.56, 7.91, 6.89]\n",
    "}\n",
    "По каждой паре выборок посчитайте:\n",
    "\n",
    "выборочное среднее и дисперсию каждой выборки,\n",
    "коэффициент корреляции Пирсона и прямую линейной регрессии.\n",
    "Убедившись в том, что они не практически не отличаются, постройте scatter plot по каждой паре выборок."
   ]
  },
  {
   "cell_type": "code",
   "execution_count": 14,
   "metadata": {},
   "outputs": [],
   "source": [
    "from matplotlib import pyplot as plt\n",
    "plt.style.use('seaborn-whitegrid')"
   ]
  },
  {
   "cell_type": "code",
   "execution_count": 15,
   "metadata": {},
   "outputs": [],
   "source": [
    "x1 = np.array([10.0, 8.0, 13.0, 9.0, 11.0, 14.0, 6.0, 4.0, 12.0, 7.0, 5.0])\n",
    "y1 = np.array([8.04, 6.95, 7.58, 8.81, 8.33, 9.96, 7.24, 4.26, 10.84, 4.82, 5.68])\n",
    "x2 = np.array([10.0, 8.0, 13.0, 9.0, 11.0, 14.0, 6.0, 4.0, 12.0, 7.0, 5.0])\n",
    "y2 = np.array([9.14, 8.14, 8.74, 8.77, 9.26, 8.1, 6.13, 3.1, 9.13, 7.26, 4.74])\n",
    "x3 = np.array([10.0, 8.0, 13.0, 9.0, 11.0, 14.0, 6.0, 4.0, 12.0, 7.0, 5.0])\n",
    "y3 = np.array([7.46, 6.77, 12.74, 7.11, 7.81, 8.84, 6.08, 5.39, 8.15, 6.42, 5.73])\n",
    "x4 = np.array([8.0, 8.0, 8.0, 8.0, 8.0, 8.0, 8.0, 19.0, 8.0, 8.0, 8.0])\n",
    "y4 = np.array([6.58, 5.76, 7.71, 8.84, 8.47, 7.04, 5.25, 12.5, 5.56, 7.91, 6.89])"
   ]
  },
  {
   "cell_type": "code",
   "execution_count": 16,
   "metadata": {},
   "outputs": [],
   "source": [
    "def check(x, y: np.ndarray):\n",
    "        print(f'Среднее x = {x.mean(),}, среднее x = {y.mean()}')\n",
    "        print(f'Дисперсия x = {x.var(ddof = 1)}, дисперсия x = {y.var(ddof = 1)}')\n",
    "        print(f'Коеффициент корреляции Пирсона равен {np.corrcoef(x1, y1)[0][1]}')\n",
    "        b1 = np.cov(x1, y1, ddof=0)[0, 1] / np.var(x1, ddof=0)\n",
    "        b0 = y1.mean() - b1 * x1.mean()\n",
    "        print(f'Уравнение линейной регресии y = {b0} + {b1}*x')\n",
    "        plt.scatter(x, y)\n",
    "        ox = x\n",
    "        oy = b0 + b1 * ox\n",
    "        plt.plot(ox, oy, color='red', alpha=0.5)"
   ]
  },
  {
   "cell_type": "code",
   "execution_count": 17,
   "metadata": {},
   "outputs": [
    {
     "name": "stdout",
     "output_type": "stream",
     "text": [
      "Среднее x = (9.0,), среднее x = 7.500909090909093\n",
      "Дисперсия x = 11.0, дисперсия x = 4.127269090909091\n",
      "Коеффициент корреляции Пирсона равен 0.81642051634484\n",
      "Уравнение линейной регресии y = 3.0000909090909103 + 0.5000909090909091*x\n"
     ]
    },
    {
     "data": {
      "image/png": "[encoded data removed]",
      "text/plain": [
       "<Figure size 432x288 with 1 Axes>"
      ]
     },
     "metadata": {},
     "output_type": "display_data"
    }
   ],
   "source": [
    "check(x1,y1)"
   ]
  },
  {
   "cell_type": "code",
   "execution_count": 18,
   "metadata": {},
   "outputs": [
    {
     "name": "stdout",
     "output_type": "stream",
     "text": [
      "Среднее x = (9.0,), среднее x = 7.50090909090909\n",
      "Дисперсия x = 11.0, дисперсия x = 4.127629090909091\n",
      "Коеффициент корреляции Пирсона равен 0.81642051634484\n",
      "Уравнение линейной регресии y = 3.0000909090909103 + 0.5000909090909091*x\n"
     ]
    },
    {
     "data": {
      "image/png": "[encoded data removed]",
      "text/plain": [
       "<Figure size 432x288 with 1 Axes>"
      ]
     },
     "metadata": {},
     "output_type": "display_data"
    }
   ],
   "source": [
    "check(x2, y2)"
   ]
  },
  {
   "cell_type": "code",
   "execution_count": 19,
   "metadata": {},
   "outputs": [
    {
     "name": "stdout",
     "output_type": "stream",
     "text": [
      "Среднее x = (9.0,), среднее x = 7.5\n",
      "Дисперсия x = 11.0, дисперсия x = 4.12262\n",
      "Коеффициент корреляции Пирсона равен 0.81642051634484\n",
      "Уравнение линейной регресии y = 3.0000909090909103 + 0.5000909090909091*x\n"
     ]
    },
    {
     "data": {
      "image/png": "[encoded data removed]",
      "text/plain": [
       "<Figure size 432x288 with 1 Axes>"
      ]
     },
     "metadata": {},
     "output_type": "display_data"
    }
   ],
   "source": [
    "check(x3, y3)"
   ]
  },
  {
   "cell_type": "code",
   "execution_count": 20,
   "metadata": {},
   "outputs": [
    {
     "name": "stdout",
     "output_type": "stream",
     "text": [
      "Среднее x = (9.0,), среднее x = 7.500909090909091\n",
      "Дисперсия x = 11.0, дисперсия x = 4.123249090909091\n",
      "Коеффициент корреляции Пирсона равен 0.81642051634484\n",
      "Уравнение линейной регресии y = 3.0000909090909103 + 0.5000909090909091*x\n"
     ]
    },
    {
     "data": {
      "image/png": "[encoded data removed]",
      "text/plain": [
       "<Figure size 432x288 with 1 Axes>"
      ]
     },
     "metadata": {},
     "output_type": "display_data"
    }
   ],
   "source": [
    "check(x4, y4)"
   ]
  }
 ],
 "metadata": {
  "kernelspec": {
   "display_name": "Python 3",
   "language": "python",
   "name": "python3"
  },
  "language_info": {
   "codemirror_mode": {
    "name": "ipython",
    "version": 3
   },
   "file_extension": ".py",
   "mimetype": "text/x-python",
   "name": "python",
   "nbconvert_exporter": "python",
   "pygments_lexer": "ipython3",
   "version": "3.7.7"
  }
 },
 "nbformat": 4,
 "nbformat_minor": 4
}
