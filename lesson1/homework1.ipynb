{
 "cells": [
  {
   "cell_type": "markdown",
   "metadata": {},
   "source": [
    "Задача №1\n",
    "\n",
    "Имеется колода в 52 карты. Найти число возможностей вытянуть из неё 4 карты так, чтобы среди них был хотя бы один туз."
   ]
  },
  {
   "cell_type": "code",
   "execution_count": 4,
   "metadata": {},
   "outputs": [],
   "source": [
    "import math;"
   ]
  },
  {
   "cell_type": "markdown",
   "metadata": {},
   "source": [
    "Решение:\n",
    "Искомое число = число всех комбинаций из 52 карт по 4  - число комбинаций из 48 карт(колода за исключением тузов) по 4.\n",
    "То есть, 52!/(48! * 4!) - 48!/(44! * 4!)\n"
   ]
  },
  {
   "cell_type": "code",
   "execution_count": 7,
   "metadata": {},
   "outputs": [
    {
     "data": {
      "text/plain": [
       "76145.0"
      ]
     },
     "execution_count": 7,
     "metadata": {},
     "output_type": "execute_result"
    }
   ],
   "source": [
    "math.factorial(52)/(math.factorial(48)*math.factorial(4))- math.factorial(48)/(math.factorial(44)*math.factorial(4))"
   ]
  },
  {
   "cell_type": "markdown",
   "metadata": {},
   "source": [
    "Задача №2\n",
    "\n",
    "Семь человек рассаживаются наудачу на скамейке. Какова вероятность того, что рядом будут сидеть: а) два определённых человека? б) три определённых человека?"
   ]
  },
  {
   "cell_type": "markdown",
   "metadata": {},
   "source": [
    "Решение:\n",
    "a) Всего способов рассадить 7 человек = 7!\n",
    "Всего способов сформировать группу из 2 определенных человек - 2!\n",
    "Всего способов посадить группу из 2 человек на скамейке из 7 мест - 6, \n",
    "так как самый левый человек из группы может сидеть на местах с 1 по 6, \n",
    "чтобы для правого осталось место на скамейке). Таким образом, искомая вероятность равна 2! * 6 / 7!\n"
   ]
  },
  {
   "cell_type": "code",
   "execution_count": 8,
   "metadata": {},
   "outputs": [
    {
     "data": {
      "text/plain": [
       "0.002380952380952381"
      ]
     },
     "execution_count": 8,
     "metadata": {},
     "output_type": "execute_result"
    }
   ],
   "source": [
    "12 /(math.factorial(7))"
   ]
  },
  {
   "cell_type": "markdown",
   "metadata": {},
   "source": [
    "б) Аналогично пункту а,\n",
    "Всего способов сформировать группу из 3 определенных человек - 3!\n",
    "Всего способов посадить группу из 3 человек на скамейке из 7 мест - 5, \n",
    "Таким образом, искомая вероятность равна 3! * 5 / 7!"
   ]
  },
  {
   "cell_type": "code",
   "execution_count": 9,
   "metadata": {},
   "outputs": [
    {
     "data": {
      "text/plain": [
       "0.005952380952380952"
      ]
     },
     "execution_count": 9,
     "metadata": {},
     "output_type": "execute_result"
    }
   ],
   "source": [
    "(math.factorial(3) * 5) /(math.factorial(7))"
   ]
  },
  {
   "cell_type": "markdown",
   "metadata": {},
   "source": [
    "Задача 3\n",
    "\n",
    "Из 60 вопросов, входящих в экзаменационные билеты, студент знает 50. Какова вероятность того, что среди трёх наугад выбранных вопросов студент знает: а) все? б) два?"
   ]
  },
  {
   "cell_type": "markdown",
   "metadata": {},
   "source": [
    "Решение:\n",
    "a) Всего способов сформировать билет из 60 вопросов - 60!/(57!*3!)\n",
    "   Всего способов сформировать билет из 50 вопросов, которые знает студент - 50!/(47!*3!)\n",
    "   Искомая вероятность  = (50!/(47!*3!))/(60!/(57!*3!))\n",
    "   "
   ]
  },
  {
   "cell_type": "code",
   "execution_count": 12,
   "metadata": {},
   "outputs": [
    {
     "data": {
      "text/plain": [
       "0.5727644652250146"
      ]
     },
     "execution_count": 12,
     "metadata": {},
     "output_type": "execute_result"
    }
   ],
   "source": [
    "(math.factorial(50)/(math.factorial(47)*math.factorial(3)))/(math.factorial(60)/(math.factorial(57)*math.factorial(3)))"
   ]
  },
  {
   "cell_type": "markdown",
   "metadata": {},
   "source": [
    "б) всего способов выбрать 1 вопрос из 10, который студент не выучил = 10\n",
    "   всего способов выбрать 2 вопроса из 50, который студент выучил = 50!/(48! * 2!)\n",
    "   Итого, способов сформировать билет  - 10 *(50!/(48! * 2!))\n",
    "   Искомая вероятность  = (10 *(50!/(48! * 2!)))/(60!/(57!*3!))"
   ]
  },
  {
   "cell_type": "code",
   "execution_count": 13,
   "metadata": {},
   "outputs": [
    {
     "data": {
      "text/plain": [
       "0.35797779076563413"
      ]
     },
     "execution_count": 13,
     "metadata": {},
     "output_type": "execute_result"
    }
   ],
   "source": [
    "(10 *(math.factorial(50)/(math.factorial(48) * 2)))/(math.factorial(60)/(math.factorial(57)*math.factorial(3)))"
   ]
  },
  {
   "cell_type": "markdown",
   "metadata": {},
   "source": [
    "Задача 4\n",
    "\n",
    "Бросается игральная кость. Пусть событие A - появление чётного числа, событие B - появление числа больше трёх. Являются ли эти события независимыми?"
   ]
  },
  {
   "cell_type": "markdown",
   "metadata": {},
   "source": [
    "Решение:\n",
    "Вероятность события В равна 1/2 (три варианта {4,5,6} из шести {1,2,3,4,5,6})\n",
    "Вероятность события В при условии события А равна 2/3 (два варианта {4,6} из трех {2,4,6}).\n",
    "Следовательно, эти события не являются независимыми."
   ]
  },
  {
   "cell_type": "markdown",
   "metadata": {},
   "source": [
    "Задача 5\n",
    "\n",
    "Допустим, имеется некоторая очень редкая болезнь (поражает 0.1% населения). Вы приходите к врачу, вам делают тест на эту болезнь, и тест оказывается положительным. Врач говорит вам, что этот тест верно выявляет 99% больных этой болезнью и всего лишь в 1% случаев даёт ложный положительный ответ."
   ]
  },
  {
   "cell_type": "markdown",
   "metadata": {},
   "source": [
    "Решение:\n",
    "Обозначим А - событие \"человек болен\"\n",
    "В - событие \"человек получил положительный результат теста\".\n",
    "Искомая вероятность - это P(A|B).\n",
    "По теореме Байеса, P(A|B) = P(B|A) * P(A)/P(B)\n",
    "P(B) = P(B|A)* P(A) + P(B|!A) * P(!A) \n",
    "То есть, P(B|A) - это человек получил положительный результат теста и он болен\n",
    "P(B|!A) - человек получил положительный результат теста и он не болен (ложноположительный результат)\n",
    "Итого P(A|B) = (0.99 * 0.001)/(0.99 * 0.001 + 0.01 * (1 - 0.001)) = 0.09"
   ]
  },
  {
   "cell_type": "code",
   "execution_count": 10,
   "metadata": {},
   "outputs": [
    {
     "data": {
      "text/plain": [
       "0.09016393442622951"
      ]
     },
     "execution_count": 10,
     "metadata": {},
     "output_type": "execute_result"
    }
   ],
   "source": [
    "(0.99 * 0.001)/(0.99 * 0.001 + 0.01 * (1 - 0.001)) "
   ]
  }
 ],
 "metadata": {
  "kernelspec": {
   "display_name": "Python 3",
   "language": "python",
   "name": "python3"
  },
  "language_info": {
   "codemirror_mode": {
    "name": "ipython",
    "version": 3
   },
   "file_extension": ".py",
   "mimetype": "text/x-python",
   "name": "python",
   "nbconvert_exporter": "python",
   "pygments_lexer": "ipython3",
   "version": "3.7.7"
  }
 },
 "nbformat": 4,
 "nbformat_minor": 4
}
